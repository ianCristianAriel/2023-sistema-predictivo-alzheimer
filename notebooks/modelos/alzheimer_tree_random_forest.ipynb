{
 "cells": [
  {
   "cell_type": "markdown",
   "metadata": {},
   "source": [
    "## Librerias"
   ]
  },
  {
   "cell_type": "code",
   "execution_count": 116,
   "metadata": {},
   "outputs": [],
   "source": [
    "import pandas as pd\n",
    "import matplotlib.pyplot as plt\n",
    "import seaborn as sns\n",
    "from sklearn.model_selection import train_test_split\n",
    "from sklearn.tree import DecisionTreeClassifier\n",
    "from sklearn.ensemble import RandomForestClassifier\n",
    "from sklearn.metrics import accuracy_score, confusion_matrix, classification_report\n",
    "from sklearn.model_selection import GridSearchCV"
   ]
  },
  {
   "cell_type": "markdown",
   "metadata": {},
   "source": [
    "## Carga csv"
   ]
  },
  {
   "cell_type": "code",
   "execution_count": 117,
   "metadata": {},
   "outputs": [],
   "source": [
    "# Cargamos el dataset\n",
    "path = '../../datos/procesados/datos_codificados.csv'\n",
    "df = pd.read_csv(path, sep=',')"
   ]
  },
  {
   "cell_type": "code",
   "execution_count": 118,
   "metadata": {},
   "outputs": [
    {
     "data": {
      "text/plain": [
       "array([3.4, 3.3, 2.3, 4.4, 2.4, 2.2])"
      ]
     },
     "execution_count": 118,
     "metadata": {},
     "output_type": "execute_result"
    }
   ],
   "source": [
    "df['APOE Genotype'].unique()"
   ]
  },
  {
   "cell_type": "code",
   "execution_count": 119,
   "metadata": {},
   "outputs": [
    {
     "data": {
      "text/html": [
       "<div>\n",
       "<style scoped>\n",
       "    .dataframe tbody tr th:only-of-type {\n",
       "        vertical-align: middle;\n",
       "    }\n",
       "\n",
       "    .dataframe tbody tr th {\n",
       "        vertical-align: top;\n",
       "    }\n",
       "\n",
       "    .dataframe thead th {\n",
       "        text-align: right;\n",
       "    }\n",
       "</style>\n",
       "<table border=\"1\" class=\"dataframe\">\n",
       "  <thead>\n",
       "    <tr style=\"text-align: right;\">\n",
       "      <th></th>\n",
       "      <th>Unnamed: 0</th>\n",
       "      <th>DX</th>\n",
       "      <th>AGE</th>\n",
       "      <th>PTGENDER</th>\n",
       "      <th>PTEDUCAT</th>\n",
       "      <th>PTETHCAT</th>\n",
       "      <th>PTRACCAT</th>\n",
       "      <th>APOE4</th>\n",
       "      <th>MMSE</th>\n",
       "      <th>imputed_genotype</th>\n",
       "      <th>APOE Genotype</th>\n",
       "      <th>DX_SUB</th>\n",
       "    </tr>\n",
       "  </thead>\n",
       "  <tbody>\n",
       "    <tr>\n",
       "      <th>609</th>\n",
       "      <td>114</td>\n",
       "      <td>2</td>\n",
       "      <td>60.3</td>\n",
       "      <td>1</td>\n",
       "      <td>18</td>\n",
       "      <td>1</td>\n",
       "      <td>2</td>\n",
       "      <td>0</td>\n",
       "      <td>29</td>\n",
       "      <td>1</td>\n",
       "      <td>3.4</td>\n",
       "      <td>2</td>\n",
       "    </tr>\n",
       "    <tr>\n",
       "      <th>376</th>\n",
       "      <td>386</td>\n",
       "      <td>1</td>\n",
       "      <td>73.4</td>\n",
       "      <td>0</td>\n",
       "      <td>12</td>\n",
       "      <td>1</td>\n",
       "      <td>2</td>\n",
       "      <td>1</td>\n",
       "      <td>30</td>\n",
       "      <td>1</td>\n",
       "      <td>3.3</td>\n",
       "      <td>1</td>\n",
       "    </tr>\n",
       "    <tr>\n",
       "      <th>370</th>\n",
       "      <td>479</td>\n",
       "      <td>2</td>\n",
       "      <td>73.6</td>\n",
       "      <td>1</td>\n",
       "      <td>14</td>\n",
       "      <td>1</td>\n",
       "      <td>2</td>\n",
       "      <td>0</td>\n",
       "      <td>25</td>\n",
       "      <td>1</td>\n",
       "      <td>3.4</td>\n",
       "      <td>2</td>\n",
       "    </tr>\n",
       "    <tr>\n",
       "      <th>13</th>\n",
       "      <td>385</td>\n",
       "      <td>2</td>\n",
       "      <td>87.1</td>\n",
       "      <td>1</td>\n",
       "      <td>16</td>\n",
       "      <td>1</td>\n",
       "      <td>2</td>\n",
       "      <td>2</td>\n",
       "      <td>24</td>\n",
       "      <td>1</td>\n",
       "      <td>3.3</td>\n",
       "      <td>2</td>\n",
       "    </tr>\n",
       "  </tbody>\n",
       "</table>\n",
       "</div>"
      ],
      "text/plain": [
       "     Unnamed: 0  DX   AGE  PTGENDER  PTEDUCAT  PTETHCAT  PTRACCAT  APOE4  \\\n",
       "609         114   2  60.3         1        18         1         2      0   \n",
       "376         386   1  73.4         0        12         1         2      1   \n",
       "370         479   2  73.6         1        14         1         2      0   \n",
       "13          385   2  87.1         1        16         1         2      2   \n",
       "\n",
       "     MMSE  imputed_genotype  APOE Genotype  DX_SUB  \n",
       "609    29                 1            3.4       2  \n",
       "376    30                 1            3.3       1  \n",
       "370    25                 1            3.4       2  \n",
       "13     24                 1            3.3       2  "
      ]
     },
     "execution_count": 119,
     "metadata": {},
     "output_type": "execute_result"
    }
   ],
   "source": [
    "df.sample(4, random_state=27)"
   ]
  },
  {
   "cell_type": "markdown",
   "metadata": {},
   "source": [
    "### Adaptacion del csv"
   ]
  },
  {
   "cell_type": "code",
   "execution_count": 120,
   "metadata": {},
   "outputs": [],
   "source": [
    "df.reset_index(drop=True, inplace=True)"
   ]
  },
  {
   "cell_type": "code",
   "execution_count": 121,
   "metadata": {},
   "outputs": [],
   "source": [
    "df.drop('Unnamed: 0', axis='columns', inplace=True)"
   ]
  },
  {
   "cell_type": "code",
   "execution_count": 122,
   "metadata": {},
   "outputs": [],
   "source": [
    "df['AGE'] = df['AGE'].round().astype(int)"
   ]
  },
  {
   "cell_type": "code",
   "execution_count": 123,
   "metadata": {},
   "outputs": [
    {
     "data": {
      "text/plain": [
       "array([3.4, 3.3, 2.3, 4.4, 2.4, 2.2])"
      ]
     },
     "execution_count": 123,
     "metadata": {},
     "output_type": "execute_result"
    }
   ],
   "source": [
    "df['APOE Genotype'].unique()"
   ]
  },
  {
   "cell_type": "code",
   "execution_count": 124,
   "metadata": {},
   "outputs": [],
   "source": [
    "#Codificacion\n",
    "\n",
    "# Obtener los valores únicos de la columna\n",
    "valores_unicos = df['APOE Genotype'].unique()\n",
    "\n",
    "# Crear un diccionario que mapea cada valor único a un código único\n",
    "codigo_valor = {valor: i for i, valor in enumerate(valores_unicos)}\n",
    "\n",
    "# Mapear los valores en la columna utilizando el diccionario\n",
    "df['APOE Genotype'] = df['APOE Genotype'].map(codigo_valor)"
   ]
  },
  {
   "cell_type": "code",
   "execution_count": 125,
   "metadata": {},
   "outputs": [
    {
     "data": {
      "text/plain": [
       "{3.4: 0, 3.3: 1, 2.3: 2, 4.4: 3, 2.4: 4, 2.2: 5}"
      ]
     },
     "execution_count": 125,
     "metadata": {},
     "output_type": "execute_result"
    }
   ],
   "source": [
    "codigo_valor"
   ]
  },
  {
   "cell_type": "markdown",
   "metadata": {},
   "source": [
    "## Modelo"
   ]
  },
  {
   "cell_type": "code",
   "execution_count": 126,
   "metadata": {},
   "outputs": [],
   "source": [
    "# Separamos el dataset en características (X) y la variable objetivo (y)\n",
    "X = df.drop('DX_SUB', axis='columns')\n",
    "y = df['DX_SUB']\n",
    "\n",
    "# Dividimos el dataset en conjuntos de entrenamiento y prueba (70% train, 30% test)\n",
    "X_train, X_test, y_train, y_test = train_test_split(X, y, test_size=0.30, random_state=9)\n",
    "\n",
    "# Importamos y creamos un modelo de árbol de decisión\n",
    "tree = DecisionTreeClassifier(max_depth=2, random_state=0)"
   ]
  },
  {
   "cell_type": "markdown",
   "metadata": {},
   "source": [
    "### Entrenamiento"
   ]
  },
  {
   "cell_type": "code",
   "execution_count": 127,
   "metadata": {},
   "outputs": [],
   "source": [
    "# Entrenamos el modelo de árbol de decisión\n",
    "tree.fit(X_train, y_train)\n",
    "\n",
    "# Calculamos las predicciones en los conjuntos de entrenamiento y prueba\n",
    "y_train_pred_tree = tree.predict(X_train)\n",
    "y_test_pred_tree = tree.predict(X_test)"
   ]
  },
  {
   "cell_type": "markdown",
   "metadata": {},
   "source": [
    "### Testeo"
   ]
  },
  {
   "cell_type": "code",
   "execution_count": 133,
   "metadata": {},
   "outputs": [
    {
     "name": "stderr",
     "output_type": "stream",
     "text": [
      "/Library/Frameworks/Python.framework/Versions/3.11/lib/python3.11/site-packages/sklearn/model_selection/_validation.py:425: FitFailedWarning: \n",
      "110 fits failed out of a total of 200.\n",
      "The score on these train-test partitions for these parameters will be set to nan.\n",
      "If these failures are not expected, you can try to debug them by setting error_score='raise'.\n",
      "\n",
      "Below are more details about the failures:\n",
      "--------------------------------------------------------------------------------\n",
      "100 fits failed with the following error:\n",
      "Traceback (most recent call last):\n",
      "  File \"/Library/Frameworks/Python.framework/Versions/3.11/lib/python3.11/site-packages/sklearn/model_selection/_validation.py\", line 732, in _fit_and_score\n",
      "    estimator.fit(X_train, y_train, **fit_params)\n",
      "  File \"/Library/Frameworks/Python.framework/Versions/3.11/lib/python3.11/site-packages/sklearn/base.py\", line 1144, in wrapper\n",
      "    estimator._validate_params()\n",
      "  File \"/Library/Frameworks/Python.framework/Versions/3.11/lib/python3.11/site-packages/sklearn/base.py\", line 637, in _validate_params\n",
      "    validate_parameter_constraints(\n",
      "  File \"/Library/Frameworks/Python.framework/Versions/3.11/lib/python3.11/site-packages/sklearn/utils/_param_validation.py\", line 95, in validate_parameter_constraints\n",
      "    raise InvalidParameterError(\n",
      "sklearn.utils._param_validation.InvalidParameterError: The 'max_depth' parameter of RandomForestClassifier must be an int in the range [1, inf) or None. Got 0 instead.\n",
      "\n",
      "--------------------------------------------------------------------------------\n",
      "10 fits failed with the following error:\n",
      "Traceback (most recent call last):\n",
      "  File \"/Library/Frameworks/Python.framework/Versions/3.11/lib/python3.11/site-packages/sklearn/model_selection/_validation.py\", line 732, in _fit_and_score\n",
      "    estimator.fit(X_train, y_train, **fit_params)\n",
      "  File \"/Library/Frameworks/Python.framework/Versions/3.11/lib/python3.11/site-packages/sklearn/base.py\", line 1144, in wrapper\n",
      "    estimator._validate_params()\n",
      "  File \"/Library/Frameworks/Python.framework/Versions/3.11/lib/python3.11/site-packages/sklearn/base.py\", line 637, in _validate_params\n",
      "    validate_parameter_constraints(\n",
      "  File \"/Library/Frameworks/Python.framework/Versions/3.11/lib/python3.11/site-packages/sklearn/utils/_param_validation.py\", line 95, in validate_parameter_constraints\n",
      "    raise InvalidParameterError(\n",
      "sklearn.utils._param_validation.InvalidParameterError: The 'n_estimators' parameter of RandomForestClassifier must be an int in the range [1, inf). Got 0 instead.\n",
      "\n",
      "  warnings.warn(some_fits_failed_message, FitFailedWarning)\n",
      "/Library/Frameworks/Python.framework/Versions/3.11/lib/python3.11/site-packages/sklearn/model_selection/_search.py:976: UserWarning: One or more of the test scores are non-finite: [       nan        nan        nan        nan        nan        nan\n",
      "        nan        nan        nan        nan        nan 0.53462857\n",
      " 0.64026667 0.71511111 0.62425397 0.79936508 0.73867937 0.7391619\n",
      " 0.76873651 0.83292698        nan        nan        nan        nan\n",
      "        nan        nan        nan        nan        nan        nan\n",
      "        nan 0.55239365 0.65047619 0.79459048 0.81026032 0.66725079\n",
      " 0.71389206 0.85074286 0.64440635 0.8792381 ]\n",
      "  warnings.warn(\n"
     ]
    }
   ],
   "source": [
    "# Creamos una instancia del clasificador Random Forest\n",
    "rf = RandomForestClassifier()\n",
    "\n",
    "# Definimos un diccionario de parámetros a explorar\n",
    "parametros = {\n",
    "  'n_estimators': range(10),  # Prueba valores de 10 a 100 en incrementos de 10 para el número de árboles\n",
    "  'criterion': ['gini', 'entropy'],  # Prueba ambos criterios de división\n",
    "  'max_depth': range(2)  # Prueba profundidades de árbol de 2 a 20 en incrementos de 2\n",
    "}\n",
    "\n",
    "# Creamos una instancia de GridSearchCV para búsqueda de hiperparámetros\n",
    "rf_grid = GridSearchCV(rf, parametros, cv=5, scoring='accuracy').fit(X, y)\n",
    "\n",
    "# Calculamos la matriz de confusión del modelo Random Forest\n",
    "cm_rf = confusion_matrix(y_test, y_test_pred_rf)"
   ]
  },
  {
   "cell_type": "code",
   "execution_count": 134,
   "metadata": {},
   "outputs": [
    {
     "name": "stdout",
     "output_type": "stream",
     "text": [
      "Matriz de Confusión (Random Forest):\n",
      " [[13 32  0]\n",
      " [ 4 45  0]\n",
      " [ 0  0 95]]\n"
     ]
    }
   ],
   "source": [
    "# Imprimimos la matriz de confusión\n",
    "print('Matriz de Confusión (Random Forest):\\n', cm_rf)"
   ]
  },
  {
   "cell_type": "code",
   "execution_count": 135,
   "metadata": {},
   "outputs": [
    {
     "name": "stdout",
     "output_type": "stream",
     "text": [
      "Accuracy en el conjunto de prueba del modelo Random Forest:  0.9365079365079365\n",
      "Accuracy en el conjunto de entrenamiento del modelo Random Forest:  0.9316628701594533\n"
     ]
    }
   ],
   "source": [
    "# Calculamos las predicciones del modelo Random Forest en el conjunto de prueba\n",
    "y_test_pred_rf = rf_grid.predict(X_test)\n",
    "\n",
    "# Calculamos la precisión del modelo Random Forest en el conjunto de prueba\n",
    "test_accuracy_rf = accuracy_score(y_test, y_test_pred_rf)\n",
    "\n",
    "# Calculamos las predicciones del modelo Random Forest en el conjunto de entrenamiento\n",
    "y_train_pred_rf = rf_grid.predict(X_train)\n",
    "\n",
    "# Calculamos la precisión en el conjunto de entrenamiento\n",
    "train_accuracy_rf = accuracy_score(y_train, y_train_pred_rf)\n",
    "\n",
    "print('Accuracy en el conjunto de prueba del modelo Random Forest: ', test_accuracy_rf)\n",
    "print('Accuracy en el conjunto de entrenamiento del modelo Random Forest: ', train_accuracy_rf)"
   ]
  },
  {
   "cell_type": "code",
   "execution_count": 130,
   "metadata": {},
   "outputs": [
    {
     "name": "stdout",
     "output_type": "stream",
     "text": [
      "Reporte de Clasificación (Random Forest):\n",
      "               precision    recall  f1-score   support\n",
      "\n",
      "           0       0.76      0.29      0.42        45\n",
      "           1       0.58      0.92      0.71        49\n",
      "           2       1.00      1.00      1.00        95\n",
      "\n",
      "    accuracy                           0.81       189\n",
      "   macro avg       0.78      0.74      0.71       189\n",
      "weighted avg       0.84      0.81      0.79       189\n",
      "\n"
     ]
    }
   ],
   "source": [
    "# Calculamos el reporte de clasificación del modelo Random Forest\n",
    "report_rf = classification_report(y_test, y_test_pred_rf)\n",
    "\n",
    "# Imprimimos el reporte de clasificación\n",
    "print('Reporte de Clasificación (Random Forest):\\n', report_rf)"
   ]
  },
  {
   "cell_type": "markdown",
   "metadata": {},
   "source": [
    "### Visualizaciones"
   ]
  },
  {
   "cell_type": "code",
   "execution_count": 139,
   "metadata": {},
   "outputs": [
    {
     "data": {
      "image/png": "[encoded data removed]",
      "text/plain": [
       "<Figure size 1200x800 with 1 Axes>"
      ]
     },
     "metadata": {},
     "output_type": "display_data"
    }
   ],
   "source": [
    "# Verificamos el feature importances\n",
    "importances = rf_grid.best_estimator_.feature_importances_\n",
    "columns = X.columns\n",
    "\n",
    "# Crear un DataFrame para facilitar la visualización\n",
    "importance_df = pd.DataFrame({'Feature': columns, 'Importance': importances})\n",
    "\n",
    "# Ordenar el DataFrame por importancia en orden descendente\n",
    "importance_df = importance_df.sort_values(by='Importance', ascending=False)\n",
    "\n",
    "# Crear una figura más grande para la visualización\n",
    "plt.figure(figsize=(12, 8))\n",
    "\n",
    "# Utilizar un gráfico de barras horizontal para mostrar las importancias\n",
    "sns.barplot(x='Feature', y='Importance', data=importance_df, palette='viridis')\n",
    "\n",
    "# Rotar las etiquetas en el eje x para mejorar la legibilidad\n",
    "plt.xticks(rotation=35)\n",
    "\n",
    "# Establecer un título y etiquetas de los ejes\n",
    "plt.title('Importancia de las Características (Feature Importance)')\n",
    "plt.xlabel('Importancia')\n",
    "plt.ylabel('Característica')\n",
    "\n",
    "# Mostrar el gráfico\n",
    "plt.show()\n"
   ]
  },
  {
   "cell_type": "markdown",
   "metadata": {},
   "source": [
    "### Conclusion del modelo"
   ]
  },
  {
   "cell_type": "markdown",
   "metadata": {},
   "source": [
    "El modelo de **Random Forest** ha demostrado un alto nivel de precisión en ambos conjuntos de datos, con un *93.65%* en el conjunto de prueba y un *93.17%* en el conjunto de entrenamiento. Esto indica que el modelo es capaz de predecir con éxito el resultado deseado en la mayoría de las instancias sin caer en sobreajustes.\n",
    "\n",
    "Las principales características que influyen en las predicciones del modelo son:\n",
    "- **DX**\n",
    "- **MMSE**\n",
    "- **EDAD**\n",
    "- **PTEDUCAT**\n",
    "- **GENAPOE4**\n",
    "- **APOE**"
   ]
  }
 ],
 "metadata": {
  "kernelspec": {
   "display_name": "Python 3",
   "language": "python",
   "name": "python3"
  },
  "language_info": {
   "codemirror_mode": {
    "name": "ipython",
    "version": 3
   },
   "file_extension": ".py",
   "mimetype": "text/x-python",
   "name": "python",
   "nbconvert_exporter": "python",
   "pygments_lexer": "ipython3",
   "version": "3.11.4"
  }
 },
 "nbformat": 4,
 "nbformat_minor": 2
}
